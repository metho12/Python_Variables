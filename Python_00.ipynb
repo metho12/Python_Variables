{
 "cells": [
  {
   "cell_type": "markdown",
   "id": "e3514691",
   "metadata": {},
   "source": [
    "# Python variables "
   ]
  },
  {
   "cell_type": "markdown",
   "id": "97dbc4f2",
   "metadata": {},
   "source": [
    "Introducation to variables in python, what is and how to deal with them ?"
   ]
  },
  {
   "cell_type": "code",
   "execution_count": 10,
   "id": "b074272e",
   "metadata": {},
   "outputs": [],
   "source": [
    "# A variable is created the moment you first assign a value to it."
   ]
  },
  {
   "cell_type": "code",
   "execution_count": null,
   "id": "bd7e5959",
   "metadata": {},
   "outputs": [],
   "source": [
    "# python variable types "
   ]
  },
  {
   "cell_type": "markdown",
   "id": "6089558b",
   "metadata": {},
   "source": [
    "1-int -- for integer number "
   ]
  },
  {
   "cell_type": "code",
   "execution_count": 1,
   "id": "41c39856",
   "metadata": {},
   "outputs": [],
   "source": [
    "x = 5 # ex of integer number "
   ]
  },
  {
   "cell_type": "code",
   "execution_count": 3,
   "id": "d4cf3c14",
   "metadata": {},
   "outputs": [
    {
     "name": "stdout",
     "output_type": "stream",
     "text": [
      "5\n"
     ]
    }
   ],
   "source": [
    "print (x)"
   ]
  },
  {
   "cell_type": "markdown",
   "id": "3fe906b8",
   "metadata": {},
   "source": [
    "2- str -- for strings "
   ]
  },
  {
   "cell_type": "code",
   "execution_count": 2,
   "id": "7c65c6a3",
   "metadata": {},
   "outputs": [],
   "source": [
    "s = 'welcome'"
   ]
  },
  {
   "cell_type": "code",
   "execution_count": 4,
   "id": "3f71a877",
   "metadata": {},
   "outputs": [
    {
     "name": "stdout",
     "output_type": "stream",
     "text": [
      "welcome\n"
     ]
    }
   ],
   "source": [
    "print (s)"
   ]
  },
  {
   "cell_type": "code",
   "execution_count": 7,
   "id": "7d95dea2",
   "metadata": {},
   "outputs": [],
   "source": [
    "x , y = 7 , 3 "
   ]
  },
  {
   "cell_type": "code",
   "execution_count": 8,
   "id": "06972f8a",
   "metadata": {},
   "outputs": [
    {
     "name": "stdout",
     "output_type": "stream",
     "text": [
      "7\n"
     ]
    }
   ],
   "source": [
    "print (x)"
   ]
  },
  {
   "cell_type": "code",
   "execution_count": 9,
   "id": "5ebb50c7",
   "metadata": {},
   "outputs": [
    {
     "name": "stdout",
     "output_type": "stream",
     "text": [
      "3\n"
     ]
    }
   ],
   "source": [
    "print (y)"
   ]
  },
  {
   "cell_type": "markdown",
   "id": "2718e959",
   "metadata": {},
   "source": [
    "3- float -- for float numbers"
   ]
  },
  {
   "cell_type": "code",
   "execution_count": 11,
   "id": "8005a693",
   "metadata": {},
   "outputs": [],
   "source": [
    "x = 5.2"
   ]
  },
  {
   "cell_type": "code",
   "execution_count": 12,
   "id": "859f4abe",
   "metadata": {},
   "outputs": [
    {
     "name": "stdout",
     "output_type": "stream",
     "text": [
      "5.2\n"
     ]
    }
   ],
   "source": [
    "print (x)"
   ]
  },
  {
   "cell_type": "markdown",
   "id": "964d2fcd",
   "metadata": {},
   "source": [
    "4- bool - for bool [True/False ]"
   ]
  },
  {
   "cell_type": "code",
   "execution_count": 15,
   "id": "00c33d5b",
   "metadata": {},
   "outputs": [],
   "source": [
    "t= False "
   ]
  },
  {
   "cell_type": "code",
   "execution_count": 16,
   "id": "d036cee0",
   "metadata": {},
   "outputs": [
    {
     "name": "stdout",
     "output_type": "stream",
     "text": [
      "False\n"
     ]
    }
   ],
   "source": [
    "print (t)"
   ]
  },
  {
   "cell_type": "markdown",
   "id": "6d8afb8b",
   "metadata": {},
   "source": [
    "5- list -- for list of values "
   ]
  },
  {
   "cell_type": "code",
   "execution_count": 17,
   "id": "f51ba6c0",
   "metadata": {},
   "outputs": [],
   "source": [
    "j = [4 ,5 ,7 ,\"metho\"] # can be edited"
   ]
  },
  {
   "cell_type": "code",
   "execution_count": 19,
   "id": "50979293",
   "metadata": {},
   "outputs": [
    {
     "name": "stdout",
     "output_type": "stream",
     "text": [
      "metho\n"
     ]
    }
   ],
   "source": [
    "print (j[3])"
   ]
  },
  {
   "cell_type": "markdown",
   "id": "47b5ecae",
   "metadata": {},
   "source": [
    "6- Tuple-- for list of values "
   ]
  },
  {
   "cell_type": "code",
   "execution_count": 22,
   "id": "4045c3f1",
   "metadata": {},
   "outputs": [],
   "source": [
    "K = (4,7,9,0,7,5) # can't be edited "
   ]
  },
  {
   "cell_type": "code",
   "execution_count": 25,
   "id": "1b213e7c",
   "metadata": {},
   "outputs": [
    {
     "name": "stdout",
     "output_type": "stream",
     "text": [
      "4\n"
     ]
    }
   ],
   "source": [
    "print(K[0])"
   ]
  },
  {
   "cell_type": "markdown",
   "id": "9a77666e",
   "metadata": {},
   "source": [
    "7- Dict--for dict of values "
   ]
  },
  {
   "cell_type": "code",
   "execution_count": 27,
   "id": "3521dd3b",
   "metadata": {},
   "outputs": [],
   "source": [
    "U = {1:'metho',3:'fahed'}"
   ]
  },
  {
   "cell_type": "code",
   "execution_count": 29,
   "id": "6bed9716",
   "metadata": {},
   "outputs": [
    {
     "name": "stdout",
     "output_type": "stream",
     "text": [
      "metho\n"
     ]
    }
   ],
   "source": [
    "print(U[1])"
   ]
  },
  {
   "cell_type": "code",
   "execution_count": 30,
   "id": "1d4da5ca",
   "metadata": {},
   "outputs": [],
   "source": [
    "#type method "
   ]
  },
  {
   "cell_type": "code",
   "execution_count": 31,
   "id": "f34778e9",
   "metadata": {},
   "outputs": [
    {
     "name": "stdout",
     "output_type": "stream",
     "text": [
      "<class 'dict'>\n"
     ]
    }
   ],
   "source": [
    "print (type(U)) # to identify the type of variables "
   ]
  },
  {
   "cell_type": "markdown",
   "id": "6e1e6f12",
   "metadata": {},
   "source": [
    "# Python Operation "
   ]
  },
  {
   "cell_type": "markdown",
   "id": "788a15a5",
   "metadata": {},
   "source": [
    "what is an operator in python? and how to deal with them "
   ]
  },
  {
   "cell_type": "markdown",
   "id": "ddb5029d",
   "metadata": {},
   "source": [
    "There are 3 types of common operations in python:\n",
    "    1- Arithematic operations\n",
    "    2- Comparison operations\n",
    "    3- Assignments operations"
   ]
  },
  {
   "cell_type": "code",
   "execution_count": null,
   "id": "dfb345bd",
   "metadata": {},
   "outputs": [],
   "source": [
    "# Arithematic operations"
   ]
  },
  {
   "cell_type": "code",
   "execution_count": 33,
   "id": "5ce07ae6",
   "metadata": {},
   "outputs": [
    {
     "data": {
      "text/plain": [
       "10"
      ]
     },
     "execution_count": 33,
     "metadata": {},
     "output_type": "execute_result"
    }
   ],
   "source": [
    "5+5"
   ]
  },
  {
   "cell_type": "code",
   "execution_count": 34,
   "id": "45fc6e88",
   "metadata": {},
   "outputs": [
    {
     "data": {
      "text/plain": [
       "0"
      ]
     },
     "execution_count": 34,
     "metadata": {},
     "output_type": "execute_result"
    }
   ],
   "source": [
    "5-5"
   ]
  },
  {
   "cell_type": "code",
   "execution_count": 35,
   "id": "8723cecb",
   "metadata": {},
   "outputs": [
    {
     "data": {
      "text/plain": [
       "8"
      ]
     },
     "execution_count": 35,
     "metadata": {},
     "output_type": "execute_result"
    }
   ],
   "source": [
    "2*4"
   ]
  },
  {
   "cell_type": "code",
   "execution_count": 36,
   "id": "df8297f7",
   "metadata": {},
   "outputs": [
    {
     "data": {
      "text/plain": [
       "16"
      ]
     },
     "execution_count": 36,
     "metadata": {},
     "output_type": "execute_result"
    }
   ],
   "source": [
    "2**4"
   ]
  },
  {
   "cell_type": "code",
   "execution_count": 37,
   "id": "2c9fcee6",
   "metadata": {},
   "outputs": [
    {
     "data": {
      "text/plain": [
       "2.25"
      ]
     },
     "execution_count": 37,
     "metadata": {},
     "output_type": "execute_result"
    }
   ],
   "source": [
    "9/4"
   ]
  },
  {
   "cell_type": "code",
   "execution_count": 38,
   "id": "a775913d",
   "metadata": {},
   "outputs": [
    {
     "data": {
      "text/plain": [
       "2"
      ]
     },
     "execution_count": 38,
     "metadata": {},
     "output_type": "execute_result"
    }
   ],
   "source": [
    "9//4"
   ]
  },
  {
   "cell_type": "code",
   "execution_count": 39,
   "id": "2a1faa96",
   "metadata": {},
   "outputs": [
    {
     "data": {
      "text/plain": [
       "0"
      ]
     },
     "execution_count": 39,
     "metadata": {},
     "output_type": "execute_result"
    }
   ],
   "source": [
    "9%3"
   ]
  },
  {
   "cell_type": "code",
   "execution_count": 40,
   "id": "0916e7c5",
   "metadata": {},
   "outputs": [
    {
     "data": {
      "text/plain": [
       "2"
      ]
     },
     "execution_count": 40,
     "metadata": {},
     "output_type": "execute_result"
    }
   ],
   "source": [
    "11%3 "
   ]
  },
  {
   "cell_type": "code",
   "execution_count": null,
   "id": "66062288",
   "metadata": {},
   "outputs": [],
   "source": [
    "#Comparison operations"
   ]
  },
  {
   "cell_type": "code",
   "execution_count": 41,
   "id": "5055c626",
   "metadata": {},
   "outputs": [
    {
     "data": {
      "text/plain": [
       "False"
      ]
     },
     "execution_count": 41,
     "metadata": {},
     "output_type": "execute_result"
    }
   ],
   "source": [
    "5<5"
   ]
  },
  {
   "cell_type": "code",
   "execution_count": 43,
   "id": "eb2236d3",
   "metadata": {},
   "outputs": [
    {
     "data": {
      "text/plain": [
       "True"
      ]
     },
     "execution_count": 43,
     "metadata": {},
     "output_type": "execute_result"
    }
   ],
   "source": [
    "5==5"
   ]
  },
  {
   "cell_type": "code",
   "execution_count": 44,
   "id": "2d3575b4",
   "metadata": {},
   "outputs": [
    {
     "data": {
      "text/plain": [
       "False"
      ]
     },
     "execution_count": 44,
     "metadata": {},
     "output_type": "execute_result"
    }
   ],
   "source": [
    "x=9\n",
    "x==10"
   ]
  },
  {
   "cell_type": "code",
   "execution_count": 45,
   "id": "6d83769b",
   "metadata": {},
   "outputs": [
    {
     "data": {
      "text/plain": [
       "True"
      ]
     },
     "execution_count": 45,
     "metadata": {},
     "output_type": "execute_result"
    }
   ],
   "source": [
    "x==9"
   ]
  },
  {
   "cell_type": "code",
   "execution_count": 47,
   "id": "50ec27ac",
   "metadata": {},
   "outputs": [
    {
     "data": {
      "text/plain": [
       "True"
      ]
     },
     "execution_count": 47,
     "metadata": {},
     "output_type": "execute_result"
    }
   ],
   "source": [
    "x!=9"
   ]
  },
  {
   "cell_type": "code",
   "execution_count": 48,
   "id": "46e9b8d5",
   "metadata": {},
   "outputs": [
    {
     "data": {
      "text/plain": [
       "False"
      ]
     },
     "execution_count": 48,
     "metadata": {},
     "output_type": "execute_result"
    }
   ],
   "source": [
    "5>=10"
   ]
  },
  {
   "cell_type": "code",
   "execution_count": null,
   "id": "3eea53b3",
   "metadata": {},
   "outputs": [],
   "source": [
    "# Assignments operations"
   ]
  },
  {
   "cell_type": "code",
   "execution_count": 54,
   "id": "a4a8022b",
   "metadata": {},
   "outputs": [],
   "source": [
    "x = 5\n",
    "x = 6 "
   ]
  },
  {
   "cell_type": "code",
   "execution_count": 55,
   "id": "1135a58c",
   "metadata": {},
   "outputs": [
    {
     "name": "stdout",
     "output_type": "stream",
     "text": [
      "6\n"
     ]
    }
   ],
   "source": [
    "print (x)"
   ]
  },
  {
   "cell_type": "code",
   "execution_count": 56,
   "id": "6a48d3d5",
   "metadata": {},
   "outputs": [],
   "source": [
    "x = x + 1"
   ]
  },
  {
   "cell_type": "code",
   "execution_count": 57,
   "id": "6c4d94fe",
   "metadata": {},
   "outputs": [
    {
     "name": "stdout",
     "output_type": "stream",
     "text": [
      "7\n"
     ]
    }
   ],
   "source": [
    "print (x)"
   ]
  },
  {
   "cell_type": "code",
   "execution_count": 58,
   "id": "d494466e",
   "metadata": {},
   "outputs": [],
   "source": [
    "x +=1"
   ]
  },
  {
   "cell_type": "code",
   "execution_count": 59,
   "id": "11f099ce",
   "metadata": {},
   "outputs": [
    {
     "name": "stdout",
     "output_type": "stream",
     "text": [
      "8\n"
     ]
    }
   ],
   "source": [
    "print (x)"
   ]
  },
  {
   "cell_type": "code",
   "execution_count": 60,
   "id": "9000ab13",
   "metadata": {},
   "outputs": [],
   "source": [
    "x *=1"
   ]
  },
  {
   "cell_type": "code",
   "execution_count": 61,
   "id": "f660aded",
   "metadata": {},
   "outputs": [
    {
     "name": "stdout",
     "output_type": "stream",
     "text": [
      "8\n"
     ]
    }
   ],
   "source": [
    "print (x)"
   ]
  },
  {
   "cell_type": "code",
   "execution_count": 62,
   "id": "21821814",
   "metadata": {},
   "outputs": [],
   "source": [
    "x -=1"
   ]
  },
  {
   "cell_type": "code",
   "execution_count": 64,
   "id": "c3233624",
   "metadata": {},
   "outputs": [
    {
     "name": "stdout",
     "output_type": "stream",
     "text": [
      "7\n"
     ]
    }
   ],
   "source": [
    "print (x)"
   ]
  },
  {
   "cell_type": "code",
   "execution_count": 65,
   "id": "19f619ad",
   "metadata": {},
   "outputs": [],
   "source": [
    "x /=2"
   ]
  },
  {
   "cell_type": "code",
   "execution_count": 66,
   "id": "45ca06f2",
   "metadata": {},
   "outputs": [
    {
     "name": "stdout",
     "output_type": "stream",
     "text": [
      "3.5\n"
     ]
    }
   ],
   "source": [
    "print (x)"
   ]
  },
  {
   "cell_type": "markdown",
   "id": "ec9fdeb3",
   "metadata": {},
   "source": [
    "# Python Condition "
   ]
  },
  {
   "cell_type": "code",
   "execution_count": 86,
   "id": "40b7a934",
   "metadata": {},
   "outputs": [],
   "source": [
    "# 1- if condition"
   ]
  },
  {
   "cell_type": "code",
   "execution_count": 73,
   "id": "0e2a80a9",
   "metadata": {},
   "outputs": [],
   "source": [
    "user_name = 'fahad'"
   ]
  },
  {
   "cell_type": "code",
   "execution_count": 74,
   "id": "4243dab1",
   "metadata": {},
   "outputs": [
    {
     "name": "stdout",
     "output_type": "stream",
     "text": [
      "welcome\n"
     ]
    }
   ],
   "source": [
    "if user_name == 'fahad':\n",
    "    print (\"welcome\")"
   ]
  },
  {
   "cell_type": "code",
   "execution_count": null,
   "id": "9d33b20c",
   "metadata": {},
   "outputs": [],
   "source": [
    "# 2- else condition"
   ]
  },
  {
   "cell_type": "code",
   "execution_count": 78,
   "id": "d8cc6e7c",
   "metadata": {},
   "outputs": [],
   "source": [
    "user_name = 'fahad_1'"
   ]
  },
  {
   "cell_type": "code",
   "execution_count": 83,
   "id": "4d4d3b10",
   "metadata": {},
   "outputs": [
    {
     "name": "stdout",
     "output_type": "stream",
     "text": [
      "what is your name?\n"
     ]
    }
   ],
   "source": [
    "if user_name == 'fahad':\n",
    "    print (\"welcome\")\n",
    "    \n",
    "else:\n",
    "        print (\"what is your name?\")"
   ]
  },
  {
   "cell_type": "code",
   "execution_count": null,
   "id": "8e1df1a6",
   "metadata": {},
   "outputs": [],
   "source": [
    "# 3- elif condition"
   ]
  },
  {
   "cell_type": "code",
   "execution_count": 84,
   "id": "a6b66575",
   "metadata": {},
   "outputs": [],
   "source": [
    "user_name = 'ali'"
   ]
  },
  {
   "cell_type": "code",
   "execution_count": 85,
   "id": "a0566b3f",
   "metadata": {},
   "outputs": [
    {
     "name": "stdout",
     "output_type": "stream",
     "text": [
      "HI\n"
     ]
    }
   ],
   "source": [
    "if user_name == 'fahad':\n",
    "    print (\"welcome\")\n",
    "    \n",
    "elif  user_name == 'ali':\n",
    "    print (\"HI\")\n",
    "    \n",
    "else:\n",
    "        print (\"what is your name?\")"
   ]
  },
  {
   "cell_type": "code",
   "execution_count": 103,
   "id": "288e7e87",
   "metadata": {},
   "outputs": [],
   "source": [
    "w = 100"
   ]
  },
  {
   "cell_type": "code",
   "execution_count": 106,
   "id": "6e1eeeb9",
   "metadata": {},
   "outputs": [
    {
     "ename": "SyntaxError",
     "evalue": "invalid syntax (3830361349.py, line 6)",
     "output_type": "error",
     "traceback": [
      "\u001b[0;36m  Input \u001b[0;32mIn [106]\u001b[0;36m\u001b[0m\n\u001b[0;31m    else:\u001b[0m\n\u001b[0m    ^\u001b[0m\n\u001b[0;31mSyntaxError\u001b[0m\u001b[0;31m:\u001b[0m invalid syntax\n"
     ]
    }
   ],
   "source": [
    "if w > 50 :\n",
    "    print ('w >5 0')\n",
    "    if x > 25:\n",
    "        print('w > 25')\n",
    "        \n",
    "        else:\n",
    "            print('w < 25') \n",
    "            \n",
    "            elif w <200:\n",
    "    print('w <200')elif:\n",
    "    print(w)"
   ]
  },
  {
   "cell_type": "code",
   "execution_count": null,
   "id": "629c3612",
   "metadata": {},
   "outputs": [],
   "source": []
  }
 ],
 "metadata": {
  "kernelspec": {
   "display_name": "Python 3 (ipykernel)",
   "language": "python",
   "name": "python3"
  },
  "language_info": {
   "codemirror_mode": {
    "name": "ipython",
    "version": 3
   },
   "file_extension": ".py",
   "mimetype": "text/x-python",
   "name": "python",
   "nbconvert_exporter": "python",
   "pygments_lexer": "ipython3",
   "version": "3.9.12"
  }
 },
 "nbformat": 4,
 "nbformat_minor": 5
}
